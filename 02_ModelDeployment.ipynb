{
 "cells": [
  {
   "cell_type": "markdown",
   "id": "cbc49f1f-550b-4b9e-91a2-ebde78cd5678",
   "metadata": {},
   "source": [
    "# Azure ML Model Monitoring Demo - Model Deployment\n",
    "\n",
    "Series of sample notebooks designed to showcase [AML's continuous model monitoring capabilities](https://learn.microsoft.com/en-us/azure/machine-learning/how-to-monitor-model-performance?view=azureml-api-2&tabs=azure-cli). The series of notebooks in this repo have been developed to perform core operations including model training, deployment, simulated production data scoring, and inference data collection. These notebooks have been designed to be run in order and include the following steps:\n",
    "\n",
    "- 00. Data Upload - Load time-series weather data from a local CSV into an AML datastore, and register as training & evaluation datasets\n",
    "- 01. Model Training - Train a custom temperature prediction regression model using Mlflow & Scikit-Learn and register into your AML workspace\n",
    "- <b>02. Model Deployment - Deploy your newly trained model to a Managed Online Endpoint with production data collection configured.</b>\n",
    "- 03. Production Data Simulation - Send time-series data to your endpoint at a slow rate to simulate production inferencing. All submitted data will be collected automatically.\n",
    "- 04. Monitoring Configuration - Configure a production model data monitor looking for drift in inferencing data, and scored results which can indicate that retraining should be performed.\n",
    "- 05. Offline Monitoring - Sample notebook showcasing how to identify drift in data from datasets scored outside of Azure ML.\n",
    "\n",
    "<b>This notebook utilizes the previously registered `Temperature_Prediction_Model` and deploys it to a Managed Online Endpoint. These endpoints are supported by the Azure Machine Learning service and offer dynamic, rule-based, scaling on managed Azure infrastructure. Additionally, they support automatic [model data collection](https://learn.microsoft.com/en-us/azure/machine-learning/how-to-collect-production-data?view=azureml-api-2&tabs=azure-cli) which can be used to collect production data that can be subjected to drift analysis and used as a triggering mechanism to kick-off retraining operations.</b>"
   ]
  },
  {
   "cell_type": "markdown",
   "id": "15a618f9-879e-4352-93ab-03b409bcacbd",
   "metadata": {},
   "source": [
    "### Import required packages"
   ]
  },
  {
   "cell_type": "code",
   "execution_count": null,
   "id": "f85de57d-9c39-41f9-b9e1-508915fa7553",
   "metadata": {},
   "outputs": [],
   "source": [
    "from azure.ai.ml import MLClient\n",
    "from azure.ai.ml.entities import ManagedOnlineEndpoint, ManagedOnlineDeployment, Environment, CodeConfiguration, DataCollector, DeploymentCollection\n",
    "from azure.identity import DefaultAzureCredential\n",
    "from mlflow import set_tracking_uri\n",
    "import mlflow"
   ]
  },
  {
   "cell_type": "markdown",
   "id": "ca8523a9-64e4-4da8-85f4-6b43e3784583",
   "metadata": {},
   "source": [
    "### Establish connection to AML workspace using the v2 SDK"
   ]
  },
  {
   "cell_type": "code",
   "execution_count": null,
   "id": "a2379e52-713d-47c7-bdb7-2cee830eef7c",
   "metadata": {},
   "outputs": [],
   "source": [
    "subscription_id = \"<your_subscription_id>\"\n",
    "resource_group = \"<your_resource_group>\"\n",
    "workspace_name = \"<your_workspace_name>\"\n",
    "\n",
    "ml_client = MLClient(DefaultAzureCredential(), subscription_id, resource_group, workspace_name)\n",
    "workspace = ml_client.workspaces.get(workspace_name)\n",
    "tracking_uri = workspace.mlflow_tracking_uri\n",
    "\n",
    "set_tracking_uri(tracking_uri)"
   ]
  },
  {
   "cell_type": "markdown",
   "id": "059f53aa-b5fc-43ef-8b3c-cc36b411d9cb",
   "metadata": {},
   "source": [
    "### Create managed online endpoint"
   ]
  },
  {
   "cell_type": "code",
   "execution_count": null,
   "id": "42d6ed9e-abba-4066-a06f-802e90e1bba8",
   "metadata": {},
   "outputs": [],
   "source": [
    "endpoint_name = \"temp-pred-endpoint\"\n",
    "\n",
    "endpoint = ManagedOnlineEndpoint(\n",
    "    name=endpoint_name,\n",
    "    description=\"Weather prediction model\",\n",
    "    auth_mode=\"key\",\n",
    ")\n",
    "\n",
    "ml_client.online_endpoints.begin_create_or_update(endpoint).result()"
   ]
  },
  {
   "cell_type": "markdown",
   "id": "8f08c6b6-3f60-42da-aac7-7e2fd947ecb5",
   "metadata": {},
   "source": [
    "### Retrieve registered model from AML workspace"
   ]
  },
  {
   "cell_type": "code",
   "execution_count": null,
   "id": "0ed87243-84d0-49c4-acbe-83ac56f6ceb6",
   "metadata": {},
   "outputs": [],
   "source": [
    "model = None\n",
    "for m in ml_client.models.list('Temperature_Prediction_Model'):\n",
    "    model = m\n",
    "    break\n",
    "    \n",
    "model"
   ]
  },
  {
   "cell_type": "markdown",
   "id": "ab66bd83-4091-4ffc-8a64-e5e57a7c6220",
   "metadata": {},
   "source": [
    "### Define inferencing endpoint environment (Conda YAML file contains additional dependencies for model data collection utilities)"
   ]
  },
  {
   "cell_type": "code",
   "execution_count": null,
   "id": "94fab262-9f6b-4a17-bae1-85344fa990ab",
   "metadata": {},
   "outputs": [],
   "source": [
    "environment = Environment(\n",
    "    conda_file=\"deployment/model/conda.yaml\",\n",
    "    image=\"mcr.microsoft.com/azureml/openmpi3.1.2-ubuntu18.04:latest\",\n",
    "    name=\"temperature-prediction-env\"\n",
    ")\n",
    "\n",
    "ml_client.environments.create_or_update(environment)"
   ]
  },
  {
   "cell_type": "markdown",
   "id": "30b79d3d-aaf0-4b22-816a-3627086d0f53",
   "metadata": {},
   "source": [
    "### Create deployment with `DataCollector` settings configured to capture inputs, outputs, and inputs/outputs jointly on a minute-by-minute basis.\n",
    "\n",
    "The captured data will be collected as JSONL files within your AML datastore. Additionally, the custom `score.py` file has been designed to capture desired inputs & outputs."
   ]
  },
  {
   "cell_type": "code",
   "execution_count": null,
   "id": "3712d7e6-65ac-4acf-8c9e-73d724e49308",
   "metadata": {},
   "outputs": [],
   "source": [
    "blue_deployment = ManagedOnlineDeployment(\n",
    "    name=\"blue\",\n",
    "    endpoint_name=endpoint_name,\n",
    "    model=model,\n",
    "    environment=environment,\n",
    "    code_configuration=CodeConfiguration(\n",
    "        code=\"deployment/src\", scoring_script=\"score.py\"\n",
    "    ),\n",
    "    instance_type=\"Standard_F4s_v2\",\n",
    "    instance_count=1,\n",
    "    data_collector = DataCollector(rolling_rate='minute', collections={'model_inputs': DeploymentCollection(enabled='true'), \n",
    "                                                'model_outputs': DeploymentCollection(enabled='true'), \n",
    "                                                'model_inputs_outputs': DeploymentCollection(enabled='true')})\n",
    ")"
   ]
  },
  {
   "cell_type": "markdown",
   "id": "381362e5-bf4f-4830-8628-d27d3cfe522d",
   "metadata": {},
   "source": [
    "### Push deployment to endpoint and await completion"
   ]
  },
  {
   "cell_type": "code",
   "execution_count": null,
   "id": "a5da100e-f3b6-4f93-a110-b69fcff0afc6",
   "metadata": {},
   "outputs": [],
   "source": [
    "ml_client.online_deployments.begin_create_or_update(blue_deployment).result()"
   ]
  },
  {
   "cell_type": "markdown",
   "id": "399ca916-be51-494e-9030-232f24e521b9",
   "metadata": {},
   "source": [
    "### Test your model\n",
    "\n",
    "Use the sample data below inside the AML studio to validate model is returning results as expected.\n",
    "\n",
    "```\n",
    "{\n",
    "    \"data\":[{\"latitude\": 30.349, \"longitude\": -85.788, \"elevation\": 21.0, \"windAngle\": 140.0, \"windSpeed\": 5.1, \"seaLvlPressure\": 1016.3, \"presentWeatherIndicator\": 3.0, \"pastWeatherIndicator\": 2.0, \"precipTime\": 1.0, \"precipDepth\": 0.0, \"snowDepth\": 3.0, \"year\": 2019.0, \"day\": 1.0, \"version\": 1.0, \"hour\": 0.0, \"month\": 1.0, \"weekday\": 1.0, \"usaf\": 720735, \"wban\": 73805, \"cloudCoverage\": \"NONE\", \"stationName\": \"NORTHWEST FLORIDA BEACHES INTL ARPT\", \"countryOrRegion\": \"US\", \"p_k\": \"720735-73805\"}, {\"latitude\": 30.349, \"longitude\": -85.788, \"elevation\": 21.0, \"windAngle\": 150.0, \"windSpeed\": 5.7, \"seaLvlPressure\": 1016.3, \"presentWeatherIndicator\": 3.0, \"pastWeatherIndicator\": 2.0, \"precipTime\": 1.0, \"precipDepth\": 0.0, \"snowDepth\": 3.0, \"year\": 2019.0, \"day\": 1.0, \"version\": 1.0, \"hour\": 0.0, \"month\": 1.0, \"weekday\": 1.0, \"usaf\": 720735, \"wban\": 73805, \"cloudCoverage\": \"NONE\", \"stationName\": \"NORTHWEST FLORIDA BEACHES INTL ARPT\", \"countryOrRegion\": \"US\", \"p_k\": \"720735-73805\"}, {\"latitude\": 30.349, \"longitude\": -85.788, \"elevation\": 21.0, \"windAngle\": 150.0, \"windSpeed\": 4.6, \"seaLvlPressure\": 1019.5, \"presentWeatherIndicator\": 3.0, \"pastWeatherIndicator\": 2.0, \"precipTime\": 1.0, \"precipDepth\": 0.0, \"snowDepth\": 3.0, \"year\": 2019.0, \"day\": 1.0, \"version\": 1.0, \"hour\": 0.0, \"month\": 1.0, \"weekday\": 1.0, \"usaf\": 720735, \"wban\": 73805, \"cloudCoverage\": \"NONE\", \"stationName\": \"NORTHWEST FLORIDA BEACHES INTL ARPT\", \"countryOrRegion\": \"US\", \"p_k\": \"720735-73805\"}]\n",
    "}\n",
    "```"
   ]
  }
 ],
 "metadata": {
  "kernelspec": {
   "display_name": "Python 3.10 - SDK v2",
   "language": "python",
   "name": "python310-sdkv2"
  },
  "language_info": {
   "codemirror_mode": {
    "name": "ipython",
    "version": 3
   },
   "file_extension": ".py",
   "mimetype": "text/x-python",
   "name": "python",
   "nbconvert_exporter": "python",
   "pygments_lexer": "ipython3",
   "version": "3.10.11"
  }
 },
 "nbformat": 4,
 "nbformat_minor": 5
}
