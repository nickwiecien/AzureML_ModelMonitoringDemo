{
 "cells": [
  {
   "cell_type": "markdown",
   "id": "6e6c1f6f-ec75-46ca-9d9d-62454728fe59",
   "metadata": {},
   "source": [
    "# Azure ML Model Monitoring Demo - Production Data Simulation (IN PROGRESS)\n",
    "\n",
    "Series of sample notebooks designed to showcase [AML's continuous model monitoring capabilities](https://learn.microsoft.com/en-us/azure/machine-learning/how-to-monitor-model-performance?view=azureml-api-2&tabs=azure-cli). The series of notebooks in this repo have been developed to perform core operations including model training, deployment, simulated production data scoring, and inference data collection. These notebooks have been designed to be run in order and include the following steps:\n",
    "\n",
    "- 00. Data Upload - Load time-series weather data from a local CSV into an AML datastore, and register as training & evaluation datasets\n",
    "- 01. Model Training - Train a custom temperature prediction regression model using Mlflow & Scikit-Learn and register into your AML workspace\n",
    "- 02. Model Deployment - Deploy your newly trained model to a Managed Online Endpoint with production data collection configured.\n",
    "- 03. Production Data Simulation - Send time-series data to your endpoint at a slow rate to simulate production inferencing. All submitted data will be collected automatically.\n",
    "- <b>04. Monitoring Configuration - Configure a production model data monitor looking for drift in inferencing data, and scored results which can indicate that retraining should be performed.</b>\n",
    "- 05. Offline Monitoring - Sample notebook showcasing how to identify drift in data from datasets scored outside of Azure ML.\n",
    "\n",
    "<b>This notebook configures model/data drift monitoring on top of production inferencing data from the previously deployed `green` deployment on the `temp-pred-endpoint`. This code is designed to review production inferencing data for drift on a daily basis and is based on [Microsoft's provided documentation](https://learn.microsoft.com/en-us/azure/machine-learning/how-to-monitor-model-performance?view=azureml-api-2&tabs=python)</b>"
   ]
  },
  {
   "cell_type": "markdown",
   "id": "282a2a1b-be52-4d14-a129-c041406e7d8d",
   "metadata": {},
   "source": [
    "### Import required packages"
   ]
  },
  {
   "cell_type": "code",
   "execution_count": null,
   "id": "63e84007-390d-43d4-8485-a1ab544390c2",
   "metadata": {},
   "outputs": [],
   "source": [
    "from azure.ai.ml import MLClient\n",
    "from azure.ai.ml.entities import ManagedOnlineEndpoint, ManagedOnlineDeployment, Environment, CodeConfiguration, DataCollector, DeploymentCollection\n",
    "from azure.identity import DefaultAzureCredential\n",
    "from mlflow import set_tracking_uri\n",
    "import mlflow\n",
    "\n",
    "from azure.identity import InteractiveBrowserCredential\n",
    "from azure.ai.ml import MLClient\n",
    "from azure.ai.ml.entities import (\n",
    "    MonitoringTarget,\n",
    "    MonitorDefinition,\n",
    "    MonitorSchedule,\n",
    "    RecurrencePattern,\n",
    "    RecurrenceTrigger,\n",
    "    SparkResourceConfiguration,\n",
    ")"
   ]
  },
  {
   "cell_type": "markdown",
   "id": "21c5d5f3-0799-49c5-a5bb-02ba187a6a10",
   "metadata": {},
   "source": [
    "### Establish connection to AML workspace using the v2 SDK"
   ]
  },
  {
   "cell_type": "code",
   "execution_count": null,
   "id": "bffa35c3-4b49-4b32-bd94-4a0a6a31e50a",
   "metadata": {},
   "outputs": [],
   "source": [
    "subscription_id = \"<your_subscription_id>\"\n",
    "resource_group = \"<your_resource_group>\"\n",
    "workspace_name = \"<your_workspace_name>\"\n",
    "\n",
    "ml_client = MLClient(DefaultAzureCredential(), subscription_id, resource_group, workspace_name)\n",
    "workspace = ml_client.workspaces.get(workspace_name)\n",
    "tracking_uri = workspace.mlflow_tracking_uri\n",
    "\n",
    "set_tracking_uri(tracking_uri)"
   ]
  },
  {
   "cell_type": "markdown",
   "id": "72848822-897e-4667-b5be-94f8e4b0be64",
   "metadata": {},
   "source": [
    "### Retrieve reference to the deployment for monitoring configuration"
   ]
  },
  {
   "cell_type": "code",
   "execution_count": null,
   "id": "4dc78481-712a-4198-9ef6-bb46cda0aade",
   "metadata": {},
   "outputs": [],
   "source": [
    "deployment = ml_client.online_deployments.get(name='green', endpoint_name='temp-pred-endpoint')"
   ]
  },
  {
   "cell_type": "markdown",
   "id": "0c0027cc-d5b4-48ad-a20c-0613a713f38b",
   "metadata": {},
   "source": [
    "### Configure data monitor"
   ]
  },
  {
   "cell_type": "code",
   "execution_count": null,
   "id": "ba154317-f93f-4ec8-bdae-ab8e96921e99",
   "metadata": {},
   "outputs": [],
   "source": [
    "from azure.identity import InteractiveBrowserCredential\n",
    "from azure.ai.ml import MLClient\n",
    "from azure.ai.ml.entities import (\n",
    "    MonitoringTarget,\n",
    "    MonitorDefinition,\n",
    "    MonitorSchedule,\n",
    "    RecurrencePattern,\n",
    "    RecurrenceTrigger,\n",
    "    SparkResourceConfiguration,\n",
    ")\n",
    "\n",
    "spark_configuration = SparkResourceConfiguration(\n",
    "    instance_type=\"standard_e4s_v3\",\n",
    "    runtime_version=\"3.2\"\n",
    ")\n",
    "\n",
    "monitoring_target = MonitoringTarget(endpoint_deployment_id=deployment.id)\n",
    "\n",
    "monitor_definition = MonitorDefinition(compute=spark_configuration, monitoring_target=monitoring_target)\n",
    "\n",
    "recurrence_trigger = RecurrenceTrigger(\n",
    "    frequency=\"day\",\n",
    "    interval=1,\n",
    "    schedule=RecurrencePattern(hours=3, minutes=15)\n",
    ")\n",
    "\n",
    "model_monitor = MonitorSchedule(name=\"temperature_prediction_model_monitoring\", \n",
    "                                trigger=recurrence_trigger, \n",
    "                                create_monitor=monitor_definition)\n",
    "\n",
    "poller = ml_client.schedules.begin_create_or_update(model_monitor)\n",
    "created_monitor = poller.result()"
   ]
  }
 ],
 "metadata": {
  "kernelspec": {
   "display_name": "Python 3.10 - SDK v2",
   "language": "python",
   "name": "python310-sdkv2"
  },
  "language_info": {
   "codemirror_mode": {
    "name": "ipython",
    "version": 3
   },
   "file_extension": ".py",
   "mimetype": "text/x-python",
   "name": "python",
   "nbconvert_exporter": "python",
   "pygments_lexer": "ipython3",
   "version": "3.10.11"
  }
 },
 "nbformat": 4,
 "nbformat_minor": 5
}
