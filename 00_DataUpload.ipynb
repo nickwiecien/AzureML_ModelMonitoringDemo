{
 "cells": [
  {
   "cell_type": "markdown",
   "id": "2e18023a-d5dd-4597-8197-4f2b0cc89550",
   "metadata": {},
   "source": [
    "# Azure ML Model Monitoring Demo - Data Upload\n",
    "\n",
    "Series of sample notebooks designed to showcase [AML's continuous model monitoring capabilities](https://learn.microsoft.com/en-us/azure/machine-learning/how-to-monitor-model-performance?view=azureml-api-2&tabs=azure-cli). The series of notebooks in this repo have been developed to perform core operations including model training, deployment, simulated production data scoring, and inference data collection. These notebooks have been designed to be run in order and include the following steps:\n",
    "\n",
    "- <b>00. Data Upload - Load time-series weather data from a local CSV into an AML datastore, and register as training & evaluation datasets</b>\n",
    "- 01. Model Training - Train a custom temperature prediction regression model using Mlflow & Scikit-Learn and register into your AML workspace\n",
    "- 02. Model Deployment - Deploy your newly trained model to a Managed Online Endpoint with production data collection configured.\n",
    "- 03. Production Data Simulation - Send time-series data to your endpoint at a slow rate to simulate production inferencing. All submitted data will be collected automatically.\n",
    "- 04. Monitoring Configuration - Configure a production model data monitor looking for drift in inferencing data, and scored results which can indicate that retraining should be performed.\n",
    "- 05. Offline Monitoring - Sample notebook showcasing how to identify drift in data from datasets scored outside of Azure ML.\n",
    "\n",
    "<b>This notebook uploads a CSV of time-series weather data collected between January and October 2019 which will be used as the basis for our demonstration. This dataset was chosen specifically as observed weather patterns will naturally drift between months which should register in our downstream analysis.</b>"
   ]
  },
  {
   "cell_type": "markdown",
   "id": "445f78d4-94e0-46c9-8ab8-20aee6e5c51f",
   "metadata": {},
   "source": [
    "### Install azureml-fsspec and mltable packages if not previously installed in environment"
   ]
  },
  {
   "cell_type": "code",
   "execution_count": null,
   "id": "ef7358d2-746b-4869-be82-b931c2c5e1d9",
   "metadata": {},
   "outputs": [],
   "source": [
    "# ! pip install -U azureml-fsspec mltable"
   ]
  },
  {
   "cell_type": "markdown",
   "id": "6636875b-83e0-4f01-b847-dc2de59d63c9",
   "metadata": {},
   "source": [
    "### Import required packages"
   ]
  },
  {
   "cell_type": "code",
   "execution_count": null,
   "id": "3b833395-41f0-4375-97e1-64d200738203",
   "metadata": {},
   "outputs": [],
   "source": [
    "from azure.ai.ml import MLClient\n",
    "from azure.identity import DefaultAzureCredential\n",
    "from mlflow import set_tracking_uri\n",
    "import pandas as pd\n",
    "import os\n",
    "from azureml.fsspec import AzureMachineLearningFileSystem\n",
    "import mltable\n",
    "from azure.ai.ml.entities import Data\n",
    "from azure.ai.ml.constants import AssetTypes"
   ]
  },
  {
   "cell_type": "markdown",
   "id": "e5e2ec41-3778-4eed-8a13-f5b15b7431d8",
   "metadata": {},
   "source": [
    "### Establish connection to Azure ML workspace using the v2 SDK"
   ]
  },
  {
   "cell_type": "code",
   "execution_count": null,
   "id": "9bea0de5-2f63-4e75-9537-ecd4d7517cc4",
   "metadata": {},
   "outputs": [],
   "source": [
    "from azure.ai.ml import MLClient\n",
    "from azure.identity import DefaultAzureCredential\n",
    "from mlflow import set_tracking_uri\n",
    "\n",
    "subscription_id = \"<your_subscription_id>\"\n",
    "resource_group = \"<your_resource_group>\"\n",
    "workspace_name = \"<your_workspace_name>\"\n",
    "\n",
    "ml_client = MLClient(DefaultAzureCredential(), subscription_id, resource_group, workspace_name)\n",
    "workspace = ml_client.workspaces.get(workspace_name)\n"
   ]
  },
  {
   "cell_type": "markdown",
   "id": "d912fbfd-99f9-4c53-8dc4-f06bac8848ae",
   "metadata": {},
   "source": [
    "### Load weather data from CSV and partition across months\n",
    "\n",
    "Read CSV data into a pandas dataframe and spit into training (Jan-Mar) and validation (Apr-Oct) subsets. These months were chose as the weather patterns between them are characteristically different. Save all subsets to CSV files."
   ]
  },
  {
   "cell_type": "code",
   "execution_count": null,
   "id": "088243a1-db89-4203-950d-1fe3e34a604f",
   "metadata": {},
   "outputs": [],
   "source": [
    "df = pd.read_csv('./CleanedWeatherData.csv')\n",
    "\n",
    "df['month'] = pd.to_numeric(df['month'])\n",
    "\n",
    "df_jan_mar_2019 = df[df['month'] < 4]\n",
    "df_apr_oct_2019 = df[df['month'] >= 4]\n",
    "df_jan_oct_2019 = df\n",
    "\n",
    "df_jan_mar_2019.to_csv('./weather_training_data.csv', index=False)\n",
    "df_apr_oct_2019.to_csv('./weather_eval_data.csv', index=False)\n",
    "df_jan_oct_2019.to_csv('./weather_full_data.csv', index=False)"
   ]
  },
  {
   "cell_type": "markdown",
   "id": "561d2f45-90fe-4368-9e0a-b30168a66b8a",
   "metadata": {},
   "source": [
    "### Upload subsetted weather data to Azure ML datastore"
   ]
  },
  {
   "cell_type": "code",
   "execution_count": null,
   "id": "43a2ff82-b9aa-42d4-8549-4a9c8a8a60d1",
   "metadata": {},
   "outputs": [],
   "source": [
    "from azureml.fsspec import AzureMachineLearningFileSystem\n",
    "\n",
    "datastore_name = 'workspaceblobstore' # default\n",
    "path_on_datastore = 'weather_data'\n",
    "\n",
    "# long-form Datastore uri format:\n",
    "uri = f'azureml://subscriptions/{subscription_id}/resourcegroups/{resource_group}/workspaces/{workspace_name}/datastores/{datastore_name}/paths/'\n",
    "uri\n",
    "\n",
    "# instantiate file system using following URI\n",
    "fs = AzureMachineLearningFileSystem(uri)\n",
    "\n",
    "# you can specify recursive as False to upload a file\n",
    "fs.upload(lpath='./weather_training_data.csv', rpath='weather_data', recursive=False, **{'overwrite': 'MERGE_WITH_OVERWRITE'})\n",
    "fs.upload(lpath='./weather_eval_data.csv', rpath='weather_data', recursive=False, **{'overwrite': 'MERGE_WITH_OVERWRITE'})\n",
    "fs.upload(lpath='./weather_full_data.csv', rpath='weather_data', recursive=False, **{'overwrite': 'MERGE_WITH_OVERWRITE'})"
   ]
  },
  {
   "cell_type": "markdown",
   "id": "4d3f3d14-f640-4fdc-a94e-bd1cb3125af9",
   "metadata": {},
   "source": [
    "### Register uploaded datasets as reusable data assets within the AML workspace"
   ]
  },
  {
   "cell_type": "code",
   "execution_count": null,
   "id": "ec803ca8-a9d6-4359-9b3d-3436f0a9da65",
   "metadata": {},
   "outputs": [],
   "source": [
    "tbl = mltable.from_delimited_files([{'pattern': uri + 'weather_data/weather_training_data.csv'}])\n",
    "tbl.save('./training_data')\n",
    "\n",
    "training_data = Data(\n",
    "    path = './training_data',\n",
    "    type = AssetTypes.MLTABLE,\n",
    "    description = 'January to March 2019 Weather Data',\n",
    "    name='weather-training-data',\n",
    "    version=\"5\"\n",
    ")\n",
    "ml_client.data.create_or_update(training_data)\n",
    "\n",
    "tbl = mltable.from_delimited_files([{'pattern': uri + 'weather_data/weather_eval_data.csv'}])\n",
    "tbl.save('./eval_data')\n",
    "\n",
    "eval_data = Data(\n",
    "    path = './eval_data',\n",
    "    type = AssetTypes.MLTABLE,\n",
    "    description = 'April to October 2019 Weather Data',\n",
    "    name='weather-evaluation-data',\n",
    "    version=\"5\"\n",
    ")\n",
    "ml_client.data.create_or_update(eval_data)\n",
    "\n",
    "tbl = mltable.from_delimited_files([{'pattern': uri + 'weather_data/weather_full_data.csv'}])\n",
    "tbl.save('./full_data')\n",
    "\n",
    "full_data = Data(\n",
    "    path = './full_data',\n",
    "    type = AssetTypes.MLTABLE,\n",
    "    description = 'January to October 2019 Weather Data',\n",
    "    name='weather-full-data',\n",
    "    version=\"5\"\n",
    ")\n",
    "ml_client.data.create_or_update(full_data)"
   ]
  }
 ],
 "metadata": {
  "kernelspec": {
   "display_name": "Python 3.10 - SDK v2",
   "language": "python",
   "name": "python310-sdkv2"
  },
  "language_info": {
   "codemirror_mode": {
    "name": "ipython",
    "version": 3
   },
   "file_extension": ".py",
   "mimetype": "text/x-python",
   "name": "python",
   "nbconvert_exporter": "python",
   "pygments_lexer": "ipython3",
   "version": "3.10.11"
  }
 },
 "nbformat": 4,
 "nbformat_minor": 5
}
